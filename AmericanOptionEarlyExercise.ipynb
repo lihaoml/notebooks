{
 "cells": [
  {
   "cell_type": "markdown",
   "metadata": {
    "collapsed": true
   },
   "source": [
    "# When Should We Early Exercise an FX American Option"
   ]
  },
  {
   "cell_type": "markdown",
   "metadata": {},
   "source": [
    "An FX American option gives the option holder the right to enter into an FX forward contract with maturity $T$. The option can be exercised at any time prior to the option expiry date $T_e$. In contrast, an FX European option gives the option holder the right to enter into the same FX forward contract only on the option expiry date $T_e$. If the American option holder decided to hold the option until the option expiry date, the American option is equivalent to the European option. The price of the American option should therefore be no less than the price of an FX European option. "
   ]
  },
  {
   "cell_type": "markdown",
   "metadata": {},
   "source": [
    "The questions are, \n",
    "- should the American option more expensive? \n",
    "- If yes, when should we early exercise?"
   ]
  },
  {
   "cell_type": "markdown",
   "metadata": {},
   "source": [
    "The underlying of this product is the FX forward contract, which stands for an exchange of two currencies at the pre-determined exchange rate $K$. \n",
    "Let us denote $V(F_t, t)$ the price of American option at time $t$, where $F_t$ is forward exchange rate with maturity T, observed at $t$. \n",
    "\n",
    "At anytime $t$ we decide to exercise the option, the realized value is $B(t, T) \\times (F_t - K)$ where $B(t, T)$ is the price of zero coupon bond with maturity $T$. This position growth to $F_t - K$ at time $T$.\n",
    "\n",
    "For the European option holder to replication the early exercised American option, at the early exercise time $t$ he can short the forward contract at zero cost. His portfolio is then short foward and long an European option. This portfolio's value at time $T$ is $F_t - F_T + \\max(F_T - K, 0) \\geq F_t - K$. So this portfolio will have a value no less than the portfolio value of the American option holder."
   ]
  },
  {
   "cell_type": "code",
   "execution_count": null,
   "metadata": {
    "collapsed": true
   },
   "outputs": [],
   "source": []
  }
 ],
 "metadata": {
  "kernelspec": {
   "display_name": "Python 2",
   "language": "python",
   "name": "python2"
  },
  "language_info": {
   "codemirror_mode": {
    "name": "ipython",
    "version": 2
   },
   "file_extension": ".py",
   "mimetype": "text/x-python",
   "name": "python",
   "nbconvert_exporter": "python",
   "pygments_lexer": "ipython2",
   "version": "2.7.11"
  }
 },
 "nbformat": 4,
 "nbformat_minor": 0
}
